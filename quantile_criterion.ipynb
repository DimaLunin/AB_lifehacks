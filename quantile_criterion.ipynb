{
 "cells": [
  {
   "cell_type": "code",
   "execution_count": 1,
   "id": "0001062b-f12e-4fcb-97d3-dfd0fcea60a4",
   "metadata": {},
   "outputs": [],
   "source": [
    "from collections import namedtuple\n",
    "import scipy.stats as sps\n",
    "import statsmodels.stats.api as sms\n",
    "from tqdm.notebook import tqdm as tqdm_notebook # tqdm – библиотека для визуализации прогресса в цикле\n",
    "from collections import defaultdict\n",
    "from statsmodels.stats.proportion import proportion_confint\n",
    "import numpy as np\n",
    "import itertools\n",
    "import seaborn as sns\n",
    "import matplotlib.pyplot as plt\n",
    "import seaborn as sns\n",
    "import statsmodels.api as sm\n",
    "sns.set(font_scale=1.5, palette='Set2')"
   ]
  },
  {
   "cell_type": "code",
   "execution_count": 50,
   "id": "2f81c69f-c103-4f4d-bf61-f90f0985112f",
   "metadata": {},
   "outputs": [],
   "source": [
    "def quantile_criterion(sample, q, alpha):\n",
    "    estim_dist = sm.nonparametric.KDEUnivariate(sample)\n",
    "    estim_dist.fit() # less -- greater FPR.\n",
    "    bw = estim_dist.bw\n",
    "\n",
    "    estim_dist = sm.nonparametric.KDEUnivariate(sample)\n",
    "    estim_dist.fit(bw=bw * q)\n",
    "    q_estim = np.quantile(sample, q)\n",
    "    f2 = estim_dist.evaluate(q_estim)[0] ** 2\n",
    "    \n",
    "    sigma = np.sqrt((q * (1 - q)) / (f2 * len(sample)))\n",
    "    z_alpha = sps.norm().ppf(1 - alpha/2)\n",
    "    left = q_estim - z_alpha * sigma\n",
    "    right = q_estim + z_alpha * sigma\n",
    "    return {\n",
    "        \"estimated q\": q_estim,\n",
    "        \"left bound\": left,\n",
    "        \"right bound\": right,\n",
    "        \"CI length\": right - left\n",
    "    }\n",
    "\n",
    "sample = sample_dist.rvs(10000)\n",
    "results = quantile_criterion(sample, q, 0.05)"
   ]
  },
  {
   "cell_type": "code",
   "execution_count": 57,
   "id": "d487e240-293f-42fa-a46a-d1996300e5c9",
   "metadata": {},
   "outputs": [
    {
     "data": {
      "application/vnd.jupyter.widget-view+json": {
       "model_id": "0ab6e902e7444f4eb04cf4598f1132c3",
       "version_major": 2,
       "version_minor": 0
      },
      "text/plain": [
       "  0%|          | 0/1000 [00:00<?, ?it/s]"
      ]
     },
     "metadata": {},
     "output_type": "display_data"
    },
    {
     "name": "stdout",
     "output_type": "stream",
     "text": [
      "Реальный уровень значимости: 0.058; доверительный интервал: [0.0451, 0.0742]\n"
     ]
    }
   ],
   "source": [
    "np.random.seed(8)\n",
    "# 3. Заводим счетчик\n",
    "bad_cnt = 0\n",
    "\n",
    "# 4. Цикл проверки\n",
    "N = 1000\n",
    "q = 0.5\n",
    "sample_dist = sps.pareto(b=2, scale=1000)\n",
    "for i in tqdm_notebook(range(N)):\n",
    "    sample = sample_dist.rvs(10000)\n",
    "    results = quantile_criterion(sample, q, 0.05)\n",
    "    \n",
    "\n",
    "    # Проверяю, корректен ли доверительный интервал\n",
    "    if results[\"left bound\"] > sample_dist.ppf(q) or results[\"right bound\"] < sample_dist.ppf(q):\n",
    "        bad_cnt += 1\n",
    "\n",
    "# Строю доверительный интервал для конверсии ошибок у критерия.\n",
    "left_real_level, right_real_level = proportion_confint(count = bad_cnt, nobs = N, alpha=0.05, method='wilson')\n",
    "# Результат\n",
    "print(f\"Реальный уровень значимости: {round(bad_cnt / N, 4)};\"\n",
    "      f\" доверительный интервал: [{round(left_real_level, 4)}, {round(right_real_level, 4)}]\")"
   ]
  },
  {
   "cell_type": "code",
   "execution_count": 5,
   "id": "1f8abf81-f4ea-42a2-964b-60d19dfcff3d",
   "metadata": {},
   "outputs": [
    {
     "data": {
      "application/vnd.jupyter.widget-view+json": {
       "model_id": "3386b7def0b547aab49178e40640ec5c",
       "version_major": 2,
       "version_minor": 0
      },
      "text/plain": [
       "  0%|          | 0/1000 [00:00<?, ?it/s]"
      ]
     },
     "metadata": {},
     "output_type": "display_data"
    },
    {
     "name": "stdout",
     "output_type": "stream",
     "text": [
      "Реальный уровень значимости: 0.054; доверительный интервал: [0.0416, 0.0698]\n"
     ]
    }
   ],
   "source": [
    "np.random.seed(8)\n",
    "# 3. Заводим счетчик\n",
    "bad_cnt = 0\n",
    "\n",
    "# 4. Цикл проверки\n",
    "N = 1000\n",
    "q = 0.05\n",
    "sample_dist = sps.pareto(b=2, scale=1000)\n",
    "for i in tqdm_notebook(range(N)):\n",
    "    sample = sample_dist.rvs(100000)\n",
    "    results = quantile_criterion(sample, q, 0.05)\n",
    "    \n",
    "\n",
    "    # Проверяю, корректен ли доверительный интервал\n",
    "    if results[\"left bound\"] > sample_dist.ppf(q) or results[\"right bound\"] < sample_dist.ppf(q):\n",
    "        bad_cnt += 1\n",
    "\n",
    "# Строю доверительный интервал для конверсии ошибок у критерия.\n",
    "left_real_level, right_real_level = proportion_confint(count = bad_cnt, nobs = N, alpha=0.05, method='wilson')\n",
    "# Результат\n",
    "print(f\"Реальный уровень значимости: {round(bad_cnt / N, 4)};\"\n",
    "      f\" доверительный интервал: [{round(left_real_level, 4)}, {round(right_real_level, 4)}]\")"
   ]
  },
  {
   "cell_type": "code",
   "execution_count": null,
   "id": "51a1ca59-0b5b-4a83-8151-937e1219e4d0",
   "metadata": {},
   "outputs": [],
   "source": []
  }
 ],
 "metadata": {
  "kernelspec": {
   "display_name": "Python3.7",
   "language": "python",
   "name": "python3.7"
  },
  "language_info": {
   "codemirror_mode": {
    "name": "ipython",
    "version": 3
   },
   "file_extension": ".py",
   "mimetype": "text/x-python",
   "name": "python",
   "nbconvert_exporter": "python",
   "pygments_lexer": "ipython3",
   "version": "3.7.5"
  }
 },
 "nbformat": 4,
 "nbformat_minor": 5
}
